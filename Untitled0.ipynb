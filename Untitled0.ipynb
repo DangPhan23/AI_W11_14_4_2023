{
  "nbformat": 4,
  "nbformat_minor": 0,
  "metadata": {
    "colab": {
      "provenance": [],
      "mount_file_id": "13E131-TIeEl9h8c3y1zZ5i__Am_saD37",
      "authorship_tag": "ABX9TyMg6lw/HrhQxfZJhImWYtiR",
      "include_colab_link": true
    },
    "kernelspec": {
      "name": "python3",
      "display_name": "Python 3"
    },
    "language_info": {
      "name": "python"
    }
  },
  "cells": [
    {
      "cell_type": "markdown",
      "metadata": {
        "id": "view-in-github",
        "colab_type": "text"
      },
      "source": [
        "<a href=\"https://colab.research.google.com/github/DangPhan23/AI_W11_14_4_2023/blob/main/Untitled0.ipynb\" target=\"_parent\"><img src=\"https://colab.research.google.com/assets/colab-badge.svg\" alt=\"Open In Colab\"/></a>"
      ]
    },
    {
      "cell_type": "code",
      "execution_count": null,
      "metadata": {
        "id": "uFwwZ_W1_iZS"
      },
      "outputs": [],
      "source": [
        "from os import listdir\n",
        "from numpy import asarray\n",
        "from numpy import save\n",
        "from keras.utils import load_img,img_to_array\n",
        "folder ='/content/drive/MyDrive/my_pic/'\n",
        "photos,label=list(),list()\n",
        "for file in listdir(folder):\n",
        "  output=0.0\n",
        "  if file.startswith('Dung'):\n",
        "    output=1.0\n",
        "  if file.startswith('DUONGDANG'):\n",
        "    output=2.0\n",
        "  img=load_img(folder+file)\n",
        "  photo=img_to_array(img)\n",
        "  photos.append(photo)\n",
        "  label.append(output)\n",
        "photos=asarray(photo)\n",
        "labels=asarray(labels)\n",
        "print(photos.shape,labels.shape)\n",
        "save('/content/drive/MyDrive/my_pic/Dang_Dung_photos.npy',photos)\n",
        "save('/content/drive/MyDrive/my_pic/Dang_Dung_labels.npy',labels)"
      ]
    },
    {
      "cell_type": "code",
      "source": [
        "from google.colab import drive\n",
        "drive.mount('/content/drive')"
      ],
      "metadata": {
        "id": "hsT6ah29BQn8"
      },
      "execution_count": null,
      "outputs": []
    }
  ]
}