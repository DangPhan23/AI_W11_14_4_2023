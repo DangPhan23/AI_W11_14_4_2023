{
  "nbformat": 4,
  "nbformat_minor": 0,
  "metadata": {
    "colab": {
      "provenance": [],
      "authorship_tag": "ABX9TyPq/yzix0EmKWVMwpn88pDy",
      "include_colab_link": true
    },
    "kernelspec": {
      "name": "python3",
      "display_name": "Python 3"
    },
    "language_info": {
      "name": "python"
    },
    "accelerator": "GPU",
    "gpuClass": "standard"
  },
  "cells": [
    {
      "cell_type": "markdown",
      "metadata": {
        "id": "view-in-github",
        "colab_type": "text"
      },
      "source": [
        "<a href=\"https://colab.research.google.com/github/DangPhan23/AI_W11_14_4_2023/blob/main/cifar10.ipynb\" target=\"_parent\"><img src=\"https://colab.research.google.com/assets/colab-badge.svg\" alt=\"Open In Colab\"/></a>"
      ]
    },
    {
      "cell_type": "code",
      "execution_count": 50,
      "metadata": {
        "id": "NYeATFWoyptP"
      },
      "outputs": [],
      "source": [
        "from keras.datasets import cifar10\n",
        "(x_train,y_train),(x_test, y_test) = cifar10.load_data()"
      ]
    },
    {
      "cell_type": "code",
      "source": [
        "import matplotlib.pyplot as plt\n",
        "x_train =x_train.astype('float32')/255\n",
        "from keras.utils import to_categorical # chuyen thanh 1 bit thanh 10 bit \n",
        "y_train = to_categorical(y_train,10)"
      ],
      "metadata": {
        "id": "yhOqeiXn6W5i"
      },
      "execution_count": 51,
      "outputs": []
    },
    {
      "cell_type": "code",
      "source": [
        "from keras.models import Sequential, Model\n",
        "from keras.layers import Dense, Flatten, Conv2D, MaxPooling2D, Normalization, LeakyReLU,Activation,Dropout\n",
        "from keras.optimizers import Adam\n",
        "from keras.losses import categorical_crossentropy\n",
        "from keras.optimizers import SGD"
      ],
      "metadata": {
        "id": "esJyi0QgzTjq"
      },
      "execution_count": 52,
      "outputs": []
    },
    {
      "cell_type": "code",
      "source": [
        "model = Sequential()\n",
        "model.add(Conv2D(32,kernel_size=(3,3), activation='linear', input_shape=(32,32,3), padding='same')) #32 lan tich chap\n",
        "model.add(Activation('relu'))\n",
        "model.add(Conv2D(32,(3,3)))\n",
        "model.add(Activation('relu'))\n",
        "model.add(MaxPooling2D((2,2)))\n",
        "model.add(Dropout(0.25))\n",
        "\n",
        "\n",
        "model.add(Conv2D(64,(3,3),padding='same')) #64 lan tich chap\n",
        "model.add(Activation('relu'))\n",
        "model.add(Conv2D(64,(3,3)))\n",
        "model.add(Activation('relu'))\n",
        "model.add(MaxPooling2D((2,2)))\n",
        "model.add(Dropout(0.25))\n",
        "\n",
        "model.add(Flatten())\n",
        "model.add(Dense(512,activation='relu'))\n",
        "model.add(Dropout(0.25))\n",
        "model.add(Dense(10,activation='softmax'))\n"
      ],
      "metadata": {
        "id": "yUaAwt-1zUJ5"
      },
      "execution_count": 53,
      "outputs": []
    },
    {
      "cell_type": "code",
      "source": [
        "sgd = SGD(lr =0.1, decay=1e-6, momentum =0.9, nesterov =True)\n",
        "model.compile(loss=categorical_crossentropy,optimizer=SGD(),metrics=['accuracy'])\n",
        "train=model.fit(x_train, y_train, epochs=100, batch_size=64)"
      ],
      "metadata": {
        "colab": {
          "base_uri": "https://localhost:8080/"
        },
        "id": "5-9T3qmA3Ek5",
        "outputId": "362baadd-3e3c-4b8c-c635-f8beb4e2d10d"
      },
      "execution_count": 60,
      "outputs": [
        {
          "output_type": "stream",
          "name": "stdout",
          "text": [
            "Epoch 1/100\n",
            "782/782 [==============================] - 6s 7ms/step - loss: 0.6236 - accuracy: 0.7801\n",
            "Epoch 2/100\n",
            "782/782 [==============================] - 6s 7ms/step - loss: 0.6096 - accuracy: 0.7837\n",
            "Epoch 3/100\n",
            "782/782 [==============================] - 6s 7ms/step - loss: 0.5965 - accuracy: 0.7893\n",
            "Epoch 4/100\n",
            "782/782 [==============================] - 6s 7ms/step - loss: 0.5851 - accuracy: 0.7932\n",
            "Epoch 5/100\n",
            "782/782 [==============================] - 5s 7ms/step - loss: 0.5729 - accuracy: 0.7964\n",
            "Epoch 6/100\n",
            "782/782 [==============================] - 6s 7ms/step - loss: 0.5659 - accuracy: 0.7990\n",
            "Epoch 7/100\n",
            "782/782 [==============================] - 5s 7ms/step - loss: 0.5524 - accuracy: 0.8051\n",
            "Epoch 8/100\n",
            "782/782 [==============================] - 6s 8ms/step - loss: 0.5433 - accuracy: 0.8068\n",
            "Epoch 9/100\n",
            "782/782 [==============================] - 5s 7ms/step - loss: 0.5318 - accuracy: 0.8126\n",
            "Epoch 10/100\n",
            "782/782 [==============================] - 6s 7ms/step - loss: 0.5198 - accuracy: 0.8147\n",
            "Epoch 11/100\n",
            "782/782 [==============================] - 6s 7ms/step - loss: 0.5156 - accuracy: 0.8156\n",
            "Epoch 12/100\n",
            "782/782 [==============================] - 5s 7ms/step - loss: 0.5026 - accuracy: 0.8212\n",
            "Epoch 13/100\n",
            "782/782 [==============================] - 6s 7ms/step - loss: 0.4952 - accuracy: 0.8246\n",
            "Epoch 14/100\n",
            "782/782 [==============================] - 5s 7ms/step - loss: 0.4860 - accuracy: 0.8270\n",
            "Epoch 15/100\n",
            "782/782 [==============================] - 6s 7ms/step - loss: 0.4729 - accuracy: 0.8321\n",
            "Epoch 16/100\n",
            "782/782 [==============================] - 5s 7ms/step - loss: 0.4565 - accuracy: 0.8384\n",
            "Epoch 17/100\n",
            "782/782 [==============================] - 6s 7ms/step - loss: 0.4543 - accuracy: 0.8380\n",
            "Epoch 18/100\n",
            "782/782 [==============================] - 5s 7ms/step - loss: 0.4426 - accuracy: 0.8408\n",
            "Epoch 19/100\n",
            "782/782 [==============================] - 6s 7ms/step - loss: 0.4370 - accuracy: 0.8432\n",
            "Epoch 20/100\n",
            "782/782 [==============================] - 5s 7ms/step - loss: 0.4265 - accuracy: 0.8478\n",
            "Epoch 21/100\n",
            "782/782 [==============================] - 5s 7ms/step - loss: 0.4125 - accuracy: 0.8526\n",
            "Epoch 22/100\n",
            "782/782 [==============================] - 6s 7ms/step - loss: 0.4120 - accuracy: 0.8535\n",
            "Epoch 23/100\n",
            "782/782 [==============================] - 5s 7ms/step - loss: 0.4000 - accuracy: 0.8581\n",
            "Epoch 24/100\n",
            "782/782 [==============================] - 6s 7ms/step - loss: 0.3905 - accuracy: 0.8603\n",
            "Epoch 25/100\n",
            "782/782 [==============================] - 5s 7ms/step - loss: 0.3867 - accuracy: 0.8618\n",
            "Epoch 26/100\n",
            "782/782 [==============================] - 6s 7ms/step - loss: 0.3775 - accuracy: 0.8628\n",
            "Epoch 27/100\n",
            "782/782 [==============================] - 5s 7ms/step - loss: 0.3720 - accuracy: 0.8660\n",
            "Epoch 28/100\n",
            "782/782 [==============================] - 6s 7ms/step - loss: 0.3607 - accuracy: 0.8698\n",
            "Epoch 29/100\n",
            "782/782 [==============================] - 6s 7ms/step - loss: 0.3530 - accuracy: 0.8738\n",
            "Epoch 30/100\n",
            "782/782 [==============================] - 5s 7ms/step - loss: 0.3485 - accuracy: 0.8744\n",
            "Epoch 31/100\n",
            "782/782 [==============================] - 6s 7ms/step - loss: 0.3418 - accuracy: 0.8755\n",
            "Epoch 32/100\n",
            "782/782 [==============================] - 5s 7ms/step - loss: 0.3295 - accuracy: 0.8807\n",
            "Epoch 33/100\n",
            "782/782 [==============================] - 6s 7ms/step - loss: 0.3235 - accuracy: 0.8821\n",
            "Epoch 34/100\n",
            "782/782 [==============================] - 5s 7ms/step - loss: 0.3198 - accuracy: 0.8851\n",
            "Epoch 35/100\n",
            "782/782 [==============================] - 6s 7ms/step - loss: 0.3104 - accuracy: 0.8899\n",
            "Epoch 36/100\n",
            "782/782 [==============================] - 6s 7ms/step - loss: 0.3027 - accuracy: 0.8900\n",
            "Epoch 37/100\n",
            "782/782 [==============================] - 6s 7ms/step - loss: 0.3027 - accuracy: 0.8902\n",
            "Epoch 38/100\n",
            "782/782 [==============================] - 5s 7ms/step - loss: 0.2884 - accuracy: 0.8971\n",
            "Epoch 39/100\n",
            "782/782 [==============================] - 6s 7ms/step - loss: 0.2870 - accuracy: 0.8955\n",
            "Epoch 40/100\n",
            "782/782 [==============================] - 6s 7ms/step - loss: 0.2824 - accuracy: 0.8992\n",
            "Epoch 41/100\n",
            "782/782 [==============================] - 5s 7ms/step - loss: 0.2765 - accuracy: 0.9021\n",
            "Epoch 42/100\n",
            "782/782 [==============================] - 6s 7ms/step - loss: 0.2651 - accuracy: 0.9052\n",
            "Epoch 43/100\n",
            "782/782 [==============================] - 5s 7ms/step - loss: 0.2631 - accuracy: 0.9052\n",
            "Epoch 44/100\n",
            "782/782 [==============================] - 6s 7ms/step - loss: 0.2618 - accuracy: 0.9054\n",
            "Epoch 45/100\n",
            "782/782 [==============================] - 5s 7ms/step - loss: 0.2531 - accuracy: 0.9088\n",
            "Epoch 46/100\n",
            "782/782 [==============================] - 6s 7ms/step - loss: 0.2509 - accuracy: 0.9084\n",
            "Epoch 47/100\n",
            "782/782 [==============================] - 5s 7ms/step - loss: 0.2461 - accuracy: 0.9112\n",
            "Epoch 48/100\n",
            "782/782 [==============================] - 6s 7ms/step - loss: 0.2417 - accuracy: 0.9124\n",
            "Epoch 49/100\n",
            "782/782 [==============================] - 6s 7ms/step - loss: 0.2323 - accuracy: 0.9161\n",
            "Epoch 50/100\n",
            "782/782 [==============================] - 6s 7ms/step - loss: 0.2300 - accuracy: 0.9175\n",
            "Epoch 51/100\n",
            "782/782 [==============================] - 6s 7ms/step - loss: 0.2257 - accuracy: 0.9184\n",
            "Epoch 52/100\n",
            "782/782 [==============================] - 5s 7ms/step - loss: 0.2249 - accuracy: 0.9186\n",
            "Epoch 53/100\n",
            "782/782 [==============================] - 6s 7ms/step - loss: 0.2210 - accuracy: 0.9204\n",
            "Epoch 54/100\n",
            "782/782 [==============================] - 5s 7ms/step - loss: 0.2167 - accuracy: 0.9221\n",
            "Epoch 55/100\n",
            "782/782 [==============================] - 6s 8ms/step - loss: 0.2148 - accuracy: 0.9237\n",
            "Epoch 56/100\n",
            "782/782 [==============================] - 5s 7ms/step - loss: 0.2102 - accuracy: 0.9238\n",
            "Epoch 57/100\n",
            "782/782 [==============================] - 6s 7ms/step - loss: 0.2060 - accuracy: 0.9258\n",
            "Epoch 58/100\n",
            "782/782 [==============================] - 5s 7ms/step - loss: 0.2017 - accuracy: 0.9274\n",
            "Epoch 59/100\n",
            "782/782 [==============================] - 6s 7ms/step - loss: 0.1992 - accuracy: 0.9276\n",
            "Epoch 60/100\n",
            "782/782 [==============================] - 5s 7ms/step - loss: 0.1935 - accuracy: 0.9302\n",
            "Epoch 61/100\n",
            "782/782 [==============================] - 5s 7ms/step - loss: 0.1881 - accuracy: 0.9330\n",
            "Epoch 62/100\n",
            "782/782 [==============================] - 6s 7ms/step - loss: 0.1852 - accuracy: 0.9340\n",
            "Epoch 63/100\n",
            "782/782 [==============================] - 6s 7ms/step - loss: 0.1869 - accuracy: 0.9331\n",
            "Epoch 64/100\n",
            "782/782 [==============================] - 6s 7ms/step - loss: 0.1822 - accuracy: 0.9344\n",
            "Epoch 65/100\n",
            "782/782 [==============================] - 5s 7ms/step - loss: 0.1780 - accuracy: 0.9357\n",
            "Epoch 66/100\n",
            "782/782 [==============================] - 6s 7ms/step - loss: 0.1740 - accuracy: 0.9372\n",
            "Epoch 67/100\n",
            "782/782 [==============================] - 5s 7ms/step - loss: 0.1733 - accuracy: 0.9388\n",
            "Epoch 68/100\n",
            "782/782 [==============================] - 6s 7ms/step - loss: 0.1701 - accuracy: 0.9392\n",
            "Epoch 69/100\n",
            "782/782 [==============================] - 5s 7ms/step - loss: 0.1658 - accuracy: 0.9413\n",
            "Epoch 70/100\n",
            "782/782 [==============================] - 5s 7ms/step - loss: 0.1637 - accuracy: 0.9420\n",
            "Epoch 71/100\n",
            "782/782 [==============================] - 6s 7ms/step - loss: 0.1639 - accuracy: 0.9424\n",
            "Epoch 72/100\n",
            "782/782 [==============================] - 5s 7ms/step - loss: 0.1606 - accuracy: 0.9442\n",
            "Epoch 73/100\n",
            "782/782 [==============================] - 6s 7ms/step - loss: 0.1579 - accuracy: 0.9435\n",
            "Epoch 74/100\n",
            "782/782 [==============================] - 5s 7ms/step - loss: 0.1550 - accuracy: 0.9446\n",
            "Epoch 75/100\n",
            "782/782 [==============================] - 6s 7ms/step - loss: 0.1530 - accuracy: 0.9451\n",
            "Epoch 76/100\n",
            "782/782 [==============================] - 5s 7ms/step - loss: 0.1506 - accuracy: 0.9467\n",
            "Epoch 77/100\n",
            "782/782 [==============================] - 6s 7ms/step - loss: 0.1520 - accuracy: 0.9449\n",
            "Epoch 78/100\n",
            "782/782 [==============================] - 6s 7ms/step - loss: 0.1445 - accuracy: 0.9485\n",
            "Epoch 79/100\n",
            "782/782 [==============================] - 5s 7ms/step - loss: 0.1492 - accuracy: 0.9465\n",
            "Epoch 80/100\n",
            "782/782 [==============================] - 6s 7ms/step - loss: 0.1413 - accuracy: 0.9498\n",
            "Epoch 81/100\n",
            "782/782 [==============================] - 5s 7ms/step - loss: 0.1411 - accuracy: 0.9499\n",
            "Epoch 82/100\n",
            "782/782 [==============================] - 6s 7ms/step - loss: 0.1400 - accuracy: 0.9497\n",
            "Epoch 83/100\n",
            "782/782 [==============================] - 5s 7ms/step - loss: 0.1419 - accuracy: 0.9494\n",
            "Epoch 84/100\n",
            "782/782 [==============================] - 6s 7ms/step - loss: 0.1419 - accuracy: 0.9501\n",
            "Epoch 85/100\n",
            "782/782 [==============================] - 5s 7ms/step - loss: 0.1328 - accuracy: 0.9517\n",
            "Epoch 86/100\n",
            "782/782 [==============================] - 6s 7ms/step - loss: 0.1328 - accuracy: 0.9530\n",
            "Epoch 87/100\n",
            "782/782 [==============================] - 5s 7ms/step - loss: 0.1365 - accuracy: 0.9516\n",
            "Epoch 88/100\n",
            "782/782 [==============================] - 6s 7ms/step - loss: 0.1335 - accuracy: 0.9531\n",
            "Epoch 89/100\n",
            "782/782 [==============================] - 6s 7ms/step - loss: 0.1265 - accuracy: 0.9554\n",
            "Epoch 90/100\n",
            "782/782 [==============================] - 5s 7ms/step - loss: 0.1247 - accuracy: 0.9554\n",
            "Epoch 91/100\n",
            "782/782 [==============================] - 6s 8ms/step - loss: 0.1265 - accuracy: 0.9552\n",
            "Epoch 92/100\n",
            "782/782 [==============================] - 5s 7ms/step - loss: 0.1232 - accuracy: 0.9562\n",
            "Epoch 93/100\n",
            "782/782 [==============================] - 6s 7ms/step - loss: 0.1240 - accuracy: 0.9559\n",
            "Epoch 94/100\n",
            "782/782 [==============================] - 5s 7ms/step - loss: 0.1194 - accuracy: 0.9573\n",
            "Epoch 95/100\n",
            "782/782 [==============================] - 6s 7ms/step - loss: 0.1231 - accuracy: 0.9556\n",
            "Epoch 96/100\n",
            "782/782 [==============================] - 5s 7ms/step - loss: 0.1187 - accuracy: 0.9569\n",
            "Epoch 97/100\n",
            "782/782 [==============================] - 6s 7ms/step - loss: 0.1172 - accuracy: 0.9585\n",
            "Epoch 98/100\n",
            "782/782 [==============================] - 5s 7ms/step - loss: 0.1132 - accuracy: 0.9595\n",
            "Epoch 99/100\n",
            "782/782 [==============================] - 6s 7ms/step - loss: 0.1137 - accuracy: 0.9605\n",
            "Epoch 100/100\n",
            "782/782 [==============================] - 6s 7ms/step - loss: 0.1139 - accuracy: 0.9604\n"
          ]
        }
      ]
    },
    {
      "cell_type": "code",
      "source": [
        "accuracy = train.history['accuracy']\n",
        "loss=train.history['loss']\n",
        "epochs=range(len(accuracy))\n",
        "plt.plot(epochs,accuracy,'c',label='Traing accuracy')\n",
        "plt.plot(epochs,loss,'b',label='Traing loss')\n",
        "plt.legend()\n",
        "plt.show()"
      ],
      "metadata": {
        "colab": {
          "base_uri": "https://localhost:8080/",
          "height": 434
        },
        "id": "p8s_2sUKsx85",
        "outputId": "7a7bcb9a-6468-4a7e-d7e5-652ab73b11f7"
      },
      "execution_count": 61,
      "outputs": [
        {
          "output_type": "display_data",
          "data": {
            "text/plain": [
              "<Figure size 640x480 with 1 Axes>"
            ],
            "image/png": "[encoded data removed]"
          },
          "metadata": {}
        }
      ]
    }
  ]
}